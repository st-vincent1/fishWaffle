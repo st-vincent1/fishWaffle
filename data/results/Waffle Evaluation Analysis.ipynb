{
 "cells": [
  {
   "cell_type": "code",
   "execution_count": 1,
   "metadata": {},
   "outputs": [],
   "source": [
    "# import relevant libraries\n",
    "\n",
    "import pandas as pd\n",
    "import numpy as np\n",
    "import matplotlib.pyplot as plt\n",
    "%matplotlib inline\n",
    "\n",
    "\n",
    "# import data\n",
    "\n",
    "df = pd.read_csv('Waffle Evaluation Data.csv')"
   ]
  },
  {
   "cell_type": "code",
   "execution_count": 2,
   "metadata": {},
   "outputs": [],
   "source": [
    "# collect unique values in iv columns and create data dict\n",
    "\n",
    "models = df.Model.unique()\n",
    "aspects = df.Aspect.unique()\n",
    "\n",
    "data_dict = {}\n",
    "\n",
    "for model in models:\n",
    "    data_dict[model] = {}\n",
    "    for aspect in aspects: \n",
    "        data_dict[model][aspect] = df[(df.Model == model) & (df.Aspect == aspect)].Average.mean()"
   ]
  },
  {
   "cell_type": "code",
   "execution_count": 8,
   "metadata": {},
   "outputs": [
    {
     "data": {
      "image/png": "[encoded data removed]",
      "text/plain": [
       "<Figure size 432x288 with 1 Axes>"
      ]
     },
     "metadata": {
      "needs_background": "light"
     },
     "output_type": "display_data"
    }
   ],
   "source": [
    "# generate some bar charts\n",
    "\n",
    "intelligibility =  [data_dict[model][\"Intelligibility\"] for model in models]\n",
    "fluency = [data_dict[model][\"Fluency\"] for model in models]\n",
    "adequacy = [data_dict[model][\"Adequacy\"] for model in models]\n",
    "\n",
    "x = np.arange(len(models)) # the label locations\n",
    "width = 0.1 # the width of the bars\n",
    "\n",
    "fig, ax = plt.subplots()\n",
    "rects1 = ax.bar(x - width*2, intelligibility, width*2, label=\"Intelligibility\")\n",
    "rects2 = ax.bar(x, fluency, width*2, label=\"Fluency\")\n",
    "rects3 = ax.bar(x + width*2, adequacy, width*2, label=\"Adequacy\")\n",
    "\n",
    "# add text for labels, title etc\n",
    "ax.set_ylabel('Average Rating')\n",
    "ax.set_title('Average Model Rating By Attribute')\n",
    "ax.set_xticks(x)\n",
    "ax.set_xticklabels(models)\n",
    "ax.legend(loc=\"lower center\")\n",
    "\n",
    "def autolabel(rects):\n",
    "    \"\"\"Attach a text label above each bar in *rects*, displaying its height.\"\"\"\n",
    "    for rect in rects:\n",
    "        height = round(rect.get_height(),2)\n",
    "        ax.annotate('{}'.format(height),\n",
    "                    xy=(rect.get_x() + rect.get_width() / 2, height * 0.9),\n",
    "                    xytext=(0, 3),  # 3 points vertical offset\n",
    "                    textcoords=\"offset points\",\n",
    "                    ha='center', va='bottom')\n",
    "        \n",
    "autolabel(rects1)\n",
    "autolabel(rects2)\n",
    "autolabel(rects3)\n",
    "\n",
    "fig.tight_layout()\n",
    "\n",
    "plt.show()"
   ]
  }
 ],
 "metadata": {
  "kernelspec": {
   "display_name": "Python 3",
   "language": "python",
   "name": "python3"
  },
  "language_info": {
   "codemirror_mode": {
    "name": "ipython",
    "version": 3
   },
   "file_extension": ".py",
   "mimetype": "text/x-python",
   "name": "python",
   "nbconvert_exporter": "python",
   "pygments_lexer": "ipython3",
   "version": "3.7.3"
  }
 },
 "nbformat": 4,
 "nbformat_minor": 2
}
